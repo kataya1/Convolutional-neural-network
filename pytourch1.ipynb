{
  "nbformat": 4,
  "nbformat_minor": 0,
  "metadata": {
    "orig_nbformat": 2,
    "file_extension": ".py",
    "mimetype": "text/x-python",
    "name": "python",
    "npconvert_exporter": "python",
    "pygments_lexer": "ipython3",
    "version": 3,
    "colab": {
      "name": "pytourch1.ipynb",
      "provenance": [],
      "collapsed_sections": [],
      "include_colab_link": true
    },
    "kernelspec": {
      "name": "python3",
      "display_name": "Python 3"
    }
  },
  "cells": [
    {
      "cell_type": "markdown",
      "metadata": {
        "id": "view-in-github",
        "colab_type": "text"
      },
      "source": [
        "<a href=\"https://colab.research.google.com/github/kataya1/Convolutional-neural-network/blob/master/pytourch1.ipynb\" target=\"_parent\"><img src=\"https://colab.research.google.com/assets/colab-badge.svg\" alt=\"Open In Colab\"/></a>"
      ]
    },
    {
      "cell_type": "code",
      "metadata": {
        "id": "Ynzh42dWOXgy",
        "colab_type": "code",
        "colab": {}
      },
      "source": [
        "import torch\n",
        "import torchvision\n",
        "import torchvision.transforms as transforms\n",
        "import matplotlib.pyplot as plt\n",
        "import numpy as np\n",
        "import torch.nn as nn\n",
        "import torch.nn.functional as F\n",
        "import torch.optim as optim\n",
        "import time"
      ],
      "execution_count": 0,
      "outputs": []
    },
    {
      "cell_type": "code",
      "metadata": {
        "id": "e3sbWzhmOXg9",
        "colab_type": "code",
        "outputId": "9310acb3-1410-4f90-c912-72a9b7d71d3f",
        "colab": {
          "base_uri": "https://localhost:8080/",
          "height": 69
        }
      },
      "source": [
        "transform = transforms.Compose(\n",
        "    [transforms.ToTensor(),\n",
        "     transforms.Normalize((0.5, 0.5, 0.5), (0.5, 0.5, 0.5))])\n",
        "\n",
        "trainset = torchvision.datasets.CIFAR10(root='./cifardata', train=True,\n",
        "                                        download=True, transform=transform)\n",
        "\n",
        "testset = torchvision.datasets.CIFAR10(root='./cifardata', train=False,\n",
        "                                       download=True, transform=transform)\n",
        "testloader = torch.utils.data.DataLoader(testset, batch_size=4,\n",
        "                                         shuffle=False, num_workers=2)\n",
        "\n",
        "classes = ('plane', 'car', 'bird', 'cat',\n",
        "           'deer', 'dog', 'frog', 'horse', 'ship', 'truck')"
      ],
      "execution_count": 0,
      "outputs": [
        {
          "output_type": "stream",
          "text": [
            "\r0it [00:00, ?it/s]"
          ],
          "name": "stderr"
        },
        {
          "output_type": "stream",
          "text": [
            "Downloading https://www.cs.toronto.edu/~kriz/cifar-10-python.tar.gz to ./cifardata/cifar-10-python.tar.gz\n"
          ],
          "name": "stdout"
        },
        {
          "output_type": "stream",
          "text": [
            "100%|█████████▉| 169959424/170498071 [00:12<00:00, 16956602.77it/s]"
          ],
          "name": "stderr"
        },
        {
          "output_type": "stream",
          "text": [
            "Extracting ./cifardata/cifar-10-python.tar.gz to ./cifardata\n",
            "Files already downloaded and verified\n"
          ],
          "name": "stdout"
        }
      ]
    },
    {
      "cell_type": "code",
      "metadata": {
        "id": "-0ZdShGgOXhA",
        "colab_type": "code",
        "outputId": "15aa6d2c-c4e9-4b61-951e-86669b06b092",
        "colab": {
          "base_uri": "https://localhost:8080/",
          "height": 155
        }
      },
      "source": [
        "def imshow(img):\n",
        "    img = img / 2 + 0.5     # unnormalize\n",
        "    npimg = img.numpy()\n",
        "    plt.imshow(np.transpose(npimg, (1, 2, 0)))\n",
        "    plt.show()\n",
        "\n",
        "\n",
        "# get some random training images\n",
        "dataiter = iter(testloader)\n",
        "images, labels = dataiter.next()\n",
        "\n",
        "# show images\n",
        "imshow(torchvision.utils.make_grid(images))\n",
        "# print labels\n",
        "print(' '.join('%5s' % classes[labels[j]] for j in range(4)))"
      ],
      "execution_count": 0,
      "outputs": [
        {
          "output_type": "display_data",
          "data": {
            "image/png": "[encoded data removed]",
            "text/plain": [
              "<Figure size 432x288 with 1 Axes>"
            ]
          },
          "metadata": {
            "tags": []
          }
        },
        {
          "output_type": "stream",
          "text": [
            "  cat  ship  ship plane\n"
          ],
          "name": "stdout"
        }
      ]
    },
    {
      "cell_type": "code",
      "metadata": {
        "id": "T1vuKQ0yOXhD",
        "colab_type": "code",
        "colab": {}
      },
      "source": [
        "\n",
        "class Net(nn.Module):\n",
        "    def __init__(self):\n",
        "        super(Net, self).__init__()\n",
        "        self.conv1 = nn.Conv2d(3, 6, kernel_size=5, padding=0)\n",
        "        #32x32x3 --> 28x28x6\n",
        "        self.pool = nn.MaxPool2d(2, 2)\n",
        "        #28x28x6 --> 14x14x6\n",
        "        self.conv2 = nn.Conv2d(6, 16, kernel_size=5, padding=0)\n",
        "        # 14x14x6 --> 10x10x16\n",
        "        #and another pooling so 5x5x16\n",
        "        # if you want k = 3 --> 30 to 15 to 13 to 6.5!!? so add padding 1 --> 32 to 16 to 16 to 8 \n",
        "        # if you want k = 11 --> 22 to 11 to 1 to 0.5!!? so add padding 1 --> 24 to 12 to 2 to 1\n",
        "        # hybrid 11x11 and 3x3 24 to 12 to 12 to 6\n",
        "        self.fc1 = nn.Linear(16 * 5 * 5, 120)\n",
        "        self.fc2 = nn.Linear(120, 84)\n",
        "        self.fc3 = nn.Linear(84, 10)\n",
        "        \n",
        "\n",
        "    def forward(self, x):\n",
        "        x = self.pool(F.relu(self.conv1(x)))\n",
        "        x = self.pool(F.relu(self.conv2(x)))\n",
        "        x = x.view(-1, 16 * 5 * 5)\n",
        "        x = F.relu(self.fc1(x))\n",
        "        x = F.relu(self.fc2(x))\n",
        "        x = self.fc3(x)\n",
        "        return x\n",
        "\n",
        "\n"
      ],
      "execution_count": 0,
      "outputs": []
    },
    {
      "cell_type": "code",
      "metadata": {
        "id": "K0KKW0D4OXhG",
        "colab_type": "code",
        "colab": {}
      },
      "source": [
        "def get_train_loader(batch_size):\n",
        "    train_loader = torch.utils.data.DataLoader(trainset, batch_size=batch_size,\n",
        "                                           shuffle=True, num_workers=2)\n",
        "    return(train_loader)"
      ],
      "execution_count": 0,
      "outputs": []
    },
    {
      "cell_type": "code",
      "metadata": {
        "id": "kf6e7DTDOXhI",
        "colab_type": "code",
        "colab": {}
      },
      "source": [
        "\n",
        "def trainNet(net, batch_size, n_epochs, learning_rate):\n",
        "    start_time = time.time()\n",
        "    criterion = nn.CrossEntropyLoss()\n",
        "    optimizer = optim.SGD(net.parameters(), lr=learning_rate, momentum=0.9)\n",
        "    trainloader = get_train_loader(batch_size)\n",
        "    print(\"=\" * 30)\n",
        "    print(\"batch_size=\", batch_size)\n",
        "    print(\"epochs=\", n_epochs)\n",
        "    print(\"learning_rate=\", learning_rate)\n",
        "    print(\"=\" * 30)\n",
        "    for epoch in range(n_epochs):  # loop over the dataset multiple times\n",
        "\n",
        "        running_loss = 0.0\n",
        "        for i, data in enumerate(trainloader, 0):\n",
        "            # get the inputs; data is a list of [inputs, labels]\n",
        "            inputs, labels = data\n",
        "\n",
        "            # zero the parameter gradients\n",
        "            optimizer.zero_grad()\n",
        "\n",
        "            # forward + backward + optimize\n",
        "            outputs = net(inputs)\n",
        "            loss = criterion(outputs, labels)\n",
        "            loss.backward()\n",
        "            optimizer.step()\n",
        "\n",
        "            # print statistics\n",
        "            running_loss += loss.item()\n",
        "            if i % 2000 == 1999:    # print every 2000 mini-batches\n",
        "                print('[%d, %5d] loss: %.3f' %\n",
        "                    (epoch + 1, i + 1, running_loss / 2000))\n",
        "                running_loss = 0.0\n",
        "\n",
        "    print('Finished Training, time = %.2f seconds' % (time.time() - start_time))"
      ],
      "execution_count": 0,
      "outputs": []
    },
    {
      "cell_type": "code",
      "metadata": {
        "id": "jL_YiYHzOXhK",
        "colab_type": "code",
        "colab": {}
      },
      "source": [
        "# net = Net()\n",
        "# trainNet(net,4,2,0.001)"
      ],
      "execution_count": 0,
      "outputs": []
    },
    {
      "cell_type": "code",
      "metadata": {
        "id": "YGSOidcIOXhM",
        "colab_type": "code",
        "outputId": "386d22cd-a6cc-4bd2-b7fc-04b2d7e12442",
        "colab": {}
      },
      "source": [
        "# newnet = Net()\n",
        "# trainNet(newnet,4,2,0.001)"
      ],
      "execution_count": 0,
      "outputs": [
        {
          "output_type": "stream",
          "text": [
            "==============================\n",
            "==============================\n",
            "batch_size= 4\n",
            "epochs= 2\n",
            "learning_rate= 0.001\n",
            "==============================\n",
            "[1,  2000] loss: 2.131\n",
            "[1,  4000] loss: 1.825\n",
            "[1,  6000] loss: 1.665\n",
            "[1,  8000] loss: 1.600\n",
            "[1, 10000] loss: 1.519\n",
            "[1, 12000] loss: 1.484\n",
            "[2,  2000] loss: 1.411\n",
            "[2,  4000] loss: 1.410\n",
            "[2,  6000] loss: 1.378\n",
            "[2,  8000] loss: 1.357\n",
            "[2, 10000] loss: 1.340\n",
            "[2, 12000] loss: 1.324\n",
            "Finished Training, time = 432.99 seconds\n"
          ],
          "name": "stdout"
        }
      ]
    },
    {
      "cell_type": "code",
      "metadata": {
        "id": "1Iq24vzhOXhP",
        "colab_type": "code",
        "outputId": "beb957aa-4860-4f37-c155-312543155875",
        "colab": {}
      },
      "source": [
        "# saving\n",
        "# PATH = './cifar_nethybrid.pth'\n",
        "# torch.save(net.state_dict(), PATH)\n",
        "# loading\n",
        "# net = Net()\n",
        "# PATH = 'cifar_net.pth'\n",
        "# net.load_state_dict(torch.load(PATH))\n",
        "# net.eval()\n"
      ],
      "execution_count": 0,
      "outputs": [
        {
          "output_type": "execute_result",
          "data": {
            "text/plain": [
              "Net(\n",
              "  (conv1): Conv2d(3, 6, kernel_size=(5, 5), stride=(1, 1))\n",
              "  (pool): MaxPool2d(kernel_size=2, stride=2, padding=0, dilation=1, ceil_mode=False)\n",
              "  (conv2): Conv2d(6, 16, kernel_size=(5, 5), stride=(1, 1))\n",
              "  (fc1): Linear(in_features=400, out_features=120, bias=True)\n",
              "  (fc2): Linear(in_features=120, out_features=84, bias=True)\n",
              "  (fc3): Linear(in_features=84, out_features=10, bias=True)\n",
              ")"
            ]
          },
          "metadata": {
            "tags": []
          },
          "execution_count": 24
        }
      ]
    },
    {
      "cell_type": "code",
      "metadata": {
        "id": "hFCQXG-BOXhS",
        "colab_type": "code",
        "colab": {}
      },
      "source": [
        "#testing\n",
        "def limitedtesting(net): \n",
        "    dataiter = iter(testloader)\n",
        "    images, labels = dataiter.next()\n",
        "    # print images\n",
        "    imshow(torchvision.utils.make_grid(images))\n",
        "    print('GroundTruth: ', ' '.join('%5s' % classes[labels[j]] for j in range(4)))\n",
        "    outputs = net(images)\n",
        "    _, predicted = torch.max(outputs, 1)\n",
        "    print('Predicted: ', ' '.join('%5s' % classes[predicted[j]]\n",
        "                                for j in range(4)))\n"
      ],
      "execution_count": 0,
      "outputs": []
    },
    {
      "cell_type": "code",
      "metadata": {
        "id": "_nYuHcEuOXhU",
        "colab_type": "code",
        "outputId": "e1874ae9-be60-4de5-aeb2-e49024f53919",
        "colab": {}
      },
      "source": [
        "limitedtesting(net)"
      ],
      "execution_count": 0,
      "outputs": [
        {
          "output_type": "display_data",
          "data": {
            "image/png": "[encoded data removed]",
            "image/svg+xml": "<?xml version=\"1.0\" encoding=\"utf-8\" standalone=\"no\"?>\r\n<!DOCTYPE svg PUBLIC \"-//W3C//DTD SVG 1.1//EN\"\r\n  \"http://www.w3.org/Graphics/SVG/1.1/DTD/svg11.dtd\">\r\n<!-- Created with matplotlib (https://matplotlib.org/) -->\r\n<svg height=\"121.003431pt\" version=\"1.1\" viewBox=\"0 0 368.925 121.003431\" width=\"368.925pt\" xmlns=\"http://www.w3.org/2000/svg\" xmlns:xlink=\"http://www.w3.org/1999/xlink\">\r\n <defs>\r\n  <style type=\"text/css\">\r\n*{stroke-linecap:butt;stroke-linejoin:round;}\r\n  </style>\r\n </defs>\r\n <g id=\"figure_1\">\r\n  <g id=\"patch_1\">\r\n   <path d=\"M -0 121.003431 \r\nL 368.925 121.003431 \r\nL 368.925 0 \r\nL -0 0 \r\nz\r\n\"/>\r\n  </g>\r\n  <g id=\"axes_1\">\r\n   <g id=\"patch_2\">\r\n    <path d=\"M 26.925 97.125306 \r\nL 361.725 97.125306 \r\nL 361.725 9.786175 \r\nL 26.925 9.786175 \r\nz\r\n\"/>\r\n   </g>\r\n   <g clip-path=\"url(#p000f85bf20)\">\r\n    <image height=\"88\" id=\"imageb517d1c959\" transform=\"scale(1 -1)translate(0 -88)\" width=\"335\" x=\"26.925\" xlink:href=\"data:image/png;base64,\r\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\" y=\"-9.125306\"/>\r\n   </g>\r\n   <g id=\"matplotlib.axis_1\">\r\n    <g id=\"xtick_1\">\r\n     <g id=\"line2d_1\">\r\n      <defs>\r\n       <path d=\"M 0 0 \r\nL 0 3.5 \r\n\" id=\"m56e513b436\" style=\"stroke:#ffffff;stroke-width:0.8;\"/>\r\n      </defs>\r\n      <g>\r\n       <use style=\"fill:#ffffff;stroke:#ffffff;stroke-width:0.8;\" x=\"28.138043\" xlink:href=\"#m56e513b436\" y=\"97.125306\"/>\r\n      </g>\r\n     </g>\r\n     <g id=\"text_1\">\r\n      <!-- 0 -->\r\n      <defs>\r\n       <path d=\"M 31.78125 66.40625 \r\nQ 24.171875 66.40625 20.328125 58.90625 \r\nQ 16.5 51.421875 16.5 36.375 \r\nQ 16.5 21.390625 20.328125 13.890625 \r\nQ 24.171875 6.390625 31.78125 6.390625 \r\nQ 39.453125 6.390625 43.28125 13.890625 \r\nQ 47.125 21.390625 47.125 36.375 \r\nQ 47.125 51.421875 43.28125 58.90625 \r\nQ 39.453125 66.40625 31.78125 66.40625 \r\nz\r\nM 31.78125 74.21875 \r\nQ 44.046875 74.21875 50.515625 64.515625 \r\nQ 56.984375 54.828125 56.984375 36.375 \r\nQ 56.984375 17.96875 50.515625 8.265625 \r\nQ 44.046875 -1.421875 31.78125 -1.421875 \r\nQ 19.53125 -1.421875 13.0625 8.265625 \r\nQ 6.59375 17.96875 6.59375 36.375 \r\nQ 6.59375 54.828125 13.0625 64.515625 \r\nQ 19.53125 74.21875 31.78125 74.21875 \r\nz\r\n\" id=\"DejaVuSans-48\"/>\r\n      </defs>\r\n      <g style=\"fill:#ffffff;\" transform=\"translate(24.956793 111.723743)scale(0.1 -0.1)\">\r\n       <use xlink:href=\"#DejaVuSans-48\"/>\r\n      </g>\r\n     </g>\r\n    </g>\r\n    <g id=\"xtick_2\">\r\n     <g id=\"line2d_2\">\r\n      <g>\r\n       <use style=\"fill:#ffffff;stroke:#ffffff;stroke-width:0.8;\" x=\"76.659783\" xlink:href=\"#m56e513b436\" y=\"97.125306\"/>\r\n      </g>\r\n     </g>\r\n     <g id=\"text_2\">\r\n      <!-- 20 -->\r\n      <defs>\r\n       <path d=\"M 19.1875 8.296875 \r\nL 53.609375 8.296875 \r\nL 53.609375 0 \r\nL 7.328125 0 \r\nL 7.328125 8.296875 \r\nQ 12.9375 14.109375 22.625 23.890625 \r\nQ 32.328125 33.6875 34.8125 36.53125 \r\nQ 39.546875 41.84375 41.421875 45.53125 \r\nQ 43.3125 49.21875 43.3125 52.78125 \r\nQ 43.3125 58.59375 39.234375 62.25 \r\nQ 35.15625 65.921875 28.609375 65.921875 \r\nQ 23.96875 65.921875 18.8125 64.3125 \r\nQ 13.671875 62.703125 7.8125 59.421875 \r\nL 7.8125 69.390625 \r\nQ 13.765625 71.78125 18.9375 73 \r\nQ 24.125 74.21875 28.421875 74.21875 \r\nQ 39.75 74.21875 46.484375 68.546875 \r\nQ 53.21875 62.890625 53.21875 53.421875 \r\nQ 53.21875 48.921875 51.53125 44.890625 \r\nQ 49.859375 40.875 45.40625 35.40625 \r\nQ 44.1875 33.984375 37.640625 27.21875 \r\nQ 31.109375 20.453125 19.1875 8.296875 \r\nz\r\n\" id=\"DejaVuSans-50\"/>\r\n      </defs>\r\n      <g style=\"fill:#ffffff;\" transform=\"translate(70.297283 111.723743)scale(0.1 -0.1)\">\r\n       <use xlink:href=\"#DejaVuSans-50\"/>\r\n       <use x=\"63.623047\" xlink:href=\"#DejaVuSans-48\"/>\r\n      </g>\r\n     </g>\r\n    </g>\r\n    <g id=\"xtick_3\">\r\n     <g id=\"line2d_3\">\r\n      <g>\r\n       <use style=\"fill:#ffffff;stroke:#ffffff;stroke-width:0.8;\" x=\"125.181522\" xlink:href=\"#m56e513b436\" y=\"97.125306\"/>\r\n      </g>\r\n     </g>\r\n     <g id=\"text_3\">\r\n      <!-- 40 -->\r\n      <defs>\r\n       <path d=\"M 37.796875 64.3125 \r\nL 12.890625 25.390625 \r\nL 37.796875 25.390625 \r\nz\r\nM 35.203125 72.90625 \r\nL 47.609375 72.90625 \r\nL 47.609375 25.390625 \r\nL 58.015625 25.390625 \r\nL 58.015625 17.1875 \r\nL 47.609375 17.1875 \r\nL 47.609375 0 \r\nL 37.796875 0 \r\nL 37.796875 17.1875 \r\nL 4.890625 17.1875 \r\nL 4.890625 26.703125 \r\nz\r\n\" id=\"DejaVuSans-52\"/>\r\n      </defs>\r\n      <g style=\"fill:#ffffff;\" transform=\"translate(118.819022 111.723743)scale(0.1 -0.1)\">\r\n       <use xlink:href=\"#DejaVuSans-52\"/>\r\n       <use x=\"63.623047\" xlink:href=\"#DejaVuSans-48\"/>\r\n      </g>\r\n     </g>\r\n    </g>\r\n    <g id=\"xtick_4\">\r\n     <g id=\"line2d_4\">\r\n      <g>\r\n       <use style=\"fill:#ffffff;stroke:#ffffff;stroke-width:0.8;\" x=\"173.703261\" xlink:href=\"#m56e513b436\" y=\"97.125306\"/>\r\n      </g>\r\n     </g>\r\n     <g id=\"text_4\">\r\n      <!-- 60 -->\r\n      <defs>\r\n       <path d=\"M 33.015625 40.375 \r\nQ 26.375 40.375 22.484375 35.828125 \r\nQ 18.609375 31.296875 18.609375 23.390625 \r\nQ 18.609375 15.53125 22.484375 10.953125 \r\nQ 26.375 6.390625 33.015625 6.390625 \r\nQ 39.65625 6.390625 43.53125 10.953125 \r\nQ 47.40625 15.53125 47.40625 23.390625 \r\nQ 47.40625 31.296875 43.53125 35.828125 \r\nQ 39.65625 40.375 33.015625 40.375 \r\nz\r\nM 52.59375 71.296875 \r\nL 52.59375 62.3125 \r\nQ 48.875 64.0625 45.09375 64.984375 \r\nQ 41.3125 65.921875 37.59375 65.921875 \r\nQ 27.828125 65.921875 22.671875 59.328125 \r\nQ 17.53125 52.734375 16.796875 39.40625 \r\nQ 19.671875 43.65625 24.015625 45.921875 \r\nQ 28.375 48.1875 33.59375 48.1875 \r\nQ 44.578125 48.1875 50.953125 41.515625 \r\nQ 57.328125 34.859375 57.328125 23.390625 \r\nQ 57.328125 12.15625 50.6875 5.359375 \r\nQ 44.046875 -1.421875 33.015625 -1.421875 \r\nQ 20.359375 -1.421875 13.671875 8.265625 \r\nQ 6.984375 17.96875 6.984375 36.375 \r\nQ 6.984375 53.65625 15.1875 63.9375 \r\nQ 23.390625 74.21875 37.203125 74.21875 \r\nQ 40.921875 74.21875 44.703125 73.484375 \r\nQ 48.484375 72.75 52.59375 71.296875 \r\nz\r\n\" id=\"DejaVuSans-54\"/>\r\n      </defs>\r\n      <g style=\"fill:#ffffff;\" transform=\"translate(167.340761 111.723743)scale(0.1 -0.1)\">\r\n       <use xlink:href=\"#DejaVuSans-54\"/>\r\n       <use x=\"63.623047\" xlink:href=\"#DejaVuSans-48\"/>\r\n      </g>\r\n     </g>\r\n    </g>\r\n    <g id=\"xtick_5\">\r\n     <g id=\"line2d_5\">\r\n      <g>\r\n       <use style=\"fill:#ffffff;stroke:#ffffff;stroke-width:0.8;\" x=\"222.225\" xlink:href=\"#m56e513b436\" y=\"97.125306\"/>\r\n      </g>\r\n     </g>\r\n     <g id=\"text_5\">\r\n      <!-- 80 -->\r\n      <defs>\r\n       <path d=\"M 31.78125 34.625 \r\nQ 24.75 34.625 20.71875 30.859375 \r\nQ 16.703125 27.09375 16.703125 20.515625 \r\nQ 16.703125 13.921875 20.71875 10.15625 \r\nQ 24.75 6.390625 31.78125 6.390625 \r\nQ 38.8125 6.390625 42.859375 10.171875 \r\nQ 46.921875 13.96875 46.921875 20.515625 \r\nQ 46.921875 27.09375 42.890625 30.859375 \r\nQ 38.875 34.625 31.78125 34.625 \r\nz\r\nM 21.921875 38.8125 \r\nQ 15.578125 40.375 12.03125 44.71875 \r\nQ 8.5 49.078125 8.5 55.328125 \r\nQ 8.5 64.0625 14.71875 69.140625 \r\nQ 20.953125 74.21875 31.78125 74.21875 \r\nQ 42.671875 74.21875 48.875 69.140625 \r\nQ 55.078125 64.0625 55.078125 55.328125 \r\nQ 55.078125 49.078125 51.53125 44.71875 \r\nQ 48 40.375 41.703125 38.8125 \r\nQ 48.828125 37.15625 52.796875 32.3125 \r\nQ 56.78125 27.484375 56.78125 20.515625 \r\nQ 56.78125 9.90625 50.3125 4.234375 \r\nQ 43.84375 -1.421875 31.78125 -1.421875 \r\nQ 19.734375 -1.421875 13.25 4.234375 \r\nQ 6.78125 9.90625 6.78125 20.515625 \r\nQ 6.78125 27.484375 10.78125 32.3125 \r\nQ 14.796875 37.15625 21.921875 38.8125 \r\nz\r\nM 18.3125 54.390625 \r\nQ 18.3125 48.734375 21.84375 45.5625 \r\nQ 25.390625 42.390625 31.78125 42.390625 \r\nQ 38.140625 42.390625 41.71875 45.5625 \r\nQ 45.3125 48.734375 45.3125 54.390625 \r\nQ 45.3125 60.0625 41.71875 63.234375 \r\nQ 38.140625 66.40625 31.78125 66.40625 \r\nQ 25.390625 66.40625 21.84375 63.234375 \r\nQ 18.3125 60.0625 18.3125 54.390625 \r\nz\r\n\" id=\"DejaVuSans-56\"/>\r\n      </defs>\r\n      <g style=\"fill:#ffffff;\" transform=\"translate(215.8625 111.723743)scale(0.1 -0.1)\">\r\n       <use xlink:href=\"#DejaVuSans-56\"/>\r\n       <use x=\"63.623047\" xlink:href=\"#DejaVuSans-48\"/>\r\n      </g>\r\n     </g>\r\n    </g>\r\n    <g id=\"xtick_6\">\r\n     <g id=\"line2d_6\">\r\n      <g>\r\n       <use style=\"fill:#ffffff;stroke:#ffffff;stroke-width:0.8;\" x=\"270.746739\" xlink:href=\"#m56e513b436\" y=\"97.125306\"/>\r\n      </g>\r\n     </g>\r\n     <g id=\"text_6\">\r\n      <!-- 100 -->\r\n      <defs>\r\n       <path d=\"M 12.40625 8.296875 \r\nL 28.515625 8.296875 \r\nL 28.515625 63.921875 \r\nL 10.984375 60.40625 \r\nL 10.984375 69.390625 \r\nL 28.421875 72.90625 \r\nL 38.28125 72.90625 \r\nL 38.28125 8.296875 \r\nL 54.390625 8.296875 \r\nL 54.390625 0 \r\nL 12.40625 0 \r\nz\r\n\" id=\"DejaVuSans-49\"/>\r\n      </defs>\r\n      <g style=\"fill:#ffffff;\" transform=\"translate(261.202989 111.723743)scale(0.1 -0.1)\">\r\n       <use xlink:href=\"#DejaVuSans-49\"/>\r\n       <use x=\"63.623047\" xlink:href=\"#DejaVuSans-48\"/>\r\n       <use x=\"127.246094\" xlink:href=\"#DejaVuSans-48\"/>\r\n      </g>\r\n     </g>\r\n    </g>\r\n    <g id=\"xtick_7\">\r\n     <g id=\"line2d_7\">\r\n      <g>\r\n       <use style=\"fill:#ffffff;stroke:#ffffff;stroke-width:0.8;\" x=\"319.268478\" xlink:href=\"#m56e513b436\" y=\"97.125306\"/>\r\n      </g>\r\n     </g>\r\n     <g id=\"text_7\">\r\n      <!-- 120 -->\r\n      <g style=\"fill:#ffffff;\" transform=\"translate(309.724728 111.723743)scale(0.1 -0.1)\">\r\n       <use xlink:href=\"#DejaVuSans-49\"/>\r\n       <use x=\"63.623047\" xlink:href=\"#DejaVuSans-50\"/>\r\n       <use x=\"127.246094\" xlink:href=\"#DejaVuSans-48\"/>\r\n      </g>\r\n     </g>\r\n    </g>\r\n   </g>\r\n   <g id=\"matplotlib.axis_2\">\r\n    <g id=\"ytick_1\">\r\n     <g id=\"line2d_8\">\r\n      <defs>\r\n       <path d=\"M 0 0 \r\nL -3.5 0 \r\n\" id=\"m12006a0c97\" style=\"stroke:#ffffff;stroke-width:0.8;\"/>\r\n      </defs>\r\n      <g>\r\n       <use style=\"fill:#ffffff;stroke:#ffffff;stroke-width:0.8;\" x=\"26.925\" xlink:href=\"#m12006a0c97\" y=\"10.999219\"/>\r\n      </g>\r\n     </g>\r\n     <g id=\"text_8\">\r\n      <!-- 0 -->\r\n      <g style=\"fill:#ffffff;\" transform=\"translate(13.5625 14.798437)scale(0.1 -0.1)\">\r\n       <use xlink:href=\"#DejaVuSans-48\"/>\r\n      </g>\r\n     </g>\r\n    </g>\r\n    <g id=\"ytick_2\">\r\n     <g id=\"line2d_9\">\r\n      <g>\r\n       <use style=\"fill:#ffffff;stroke:#ffffff;stroke-width:0.8;\" x=\"26.925\" xlink:href=\"#m12006a0c97\" y=\"35.260088\"/>\r\n      </g>\r\n     </g>\r\n     <g id=\"text_9\">\r\n      <!-- 10 -->\r\n      <g style=\"fill:#ffffff;\" transform=\"translate(7.2 39.059307)scale(0.1 -0.1)\">\r\n       <use xlink:href=\"#DejaVuSans-49\"/>\r\n       <use x=\"63.623047\" xlink:href=\"#DejaVuSans-48\"/>\r\n      </g>\r\n     </g>\r\n    </g>\r\n    <g id=\"ytick_3\">\r\n     <g id=\"line2d_10\">\r\n      <g>\r\n       <use style=\"fill:#ffffff;stroke:#ffffff;stroke-width:0.8;\" x=\"26.925\" xlink:href=\"#m12006a0c97\" y=\"59.520958\"/>\r\n      </g>\r\n     </g>\r\n     <g id=\"text_10\">\r\n      <!-- 20 -->\r\n      <g style=\"fill:#ffffff;\" transform=\"translate(7.2 63.320177)scale(0.1 -0.1)\">\r\n       <use xlink:href=\"#DejaVuSans-50\"/>\r\n       <use x=\"63.623047\" xlink:href=\"#DejaVuSans-48\"/>\r\n      </g>\r\n     </g>\r\n    </g>\r\n    <g id=\"ytick_4\">\r\n     <g id=\"line2d_11\">\r\n      <g>\r\n       <use style=\"fill:#ffffff;stroke:#ffffff;stroke-width:0.8;\" x=\"26.925\" xlink:href=\"#m12006a0c97\" y=\"83.781827\"/>\r\n      </g>\r\n     </g>\r\n     <g id=\"text_11\">\r\n      <!-- 30 -->\r\n      <defs>\r\n       <path d=\"M 40.578125 39.3125 \r\nQ 47.65625 37.796875 51.625 33 \r\nQ 55.609375 28.21875 55.609375 21.1875 \r\nQ 55.609375 10.40625 48.1875 4.484375 \r\nQ 40.765625 -1.421875 27.09375 -1.421875 \r\nQ 22.515625 -1.421875 17.65625 -0.515625 \r\nQ 12.796875 0.390625 7.625 2.203125 \r\nL 7.625 11.71875 \r\nQ 11.71875 9.328125 16.59375 8.109375 \r\nQ 21.484375 6.890625 26.8125 6.890625 \r\nQ 36.078125 6.890625 40.9375 10.546875 \r\nQ 45.796875 14.203125 45.796875 21.1875 \r\nQ 45.796875 27.640625 41.28125 31.265625 \r\nQ 36.765625 34.90625 28.71875 34.90625 \r\nL 20.21875 34.90625 \r\nL 20.21875 43.015625 \r\nL 29.109375 43.015625 \r\nQ 36.375 43.015625 40.234375 45.921875 \r\nQ 44.09375 48.828125 44.09375 54.296875 \r\nQ 44.09375 59.90625 40.109375 62.90625 \r\nQ 36.140625 65.921875 28.71875 65.921875 \r\nQ 24.65625 65.921875 20.015625 65.03125 \r\nQ 15.375 64.15625 9.8125 62.3125 \r\nL 9.8125 71.09375 \r\nQ 15.4375 72.65625 20.34375 73.4375 \r\nQ 25.25 74.21875 29.59375 74.21875 \r\nQ 40.828125 74.21875 47.359375 69.109375 \r\nQ 53.90625 64.015625 53.90625 55.328125 \r\nQ 53.90625 49.265625 50.4375 45.09375 \r\nQ 46.96875 40.921875 40.578125 39.3125 \r\nz\r\n\" id=\"DejaVuSans-51\"/>\r\n      </defs>\r\n      <g style=\"fill:#ffffff;\" transform=\"translate(7.2 87.581046)scale(0.1 -0.1)\">\r\n       <use xlink:href=\"#DejaVuSans-51\"/>\r\n       <use x=\"63.623047\" xlink:href=\"#DejaVuSans-48\"/>\r\n      </g>\r\n     </g>\r\n    </g>\r\n   </g>\r\n   <g id=\"patch_3\">\r\n    <path d=\"M 26.925 97.125306 \r\nL 26.925 9.786175 \r\n\" style=\"fill:none;stroke:#ffffff;stroke-linecap:square;stroke-linejoin:miter;stroke-width:0.8;\"/>\r\n   </g>\r\n   <g id=\"patch_4\">\r\n    <path d=\"M 361.725 97.125306 \r\nL 361.725 9.786175 \r\n\" style=\"fill:none;stroke:#ffffff;stroke-linecap:square;stroke-linejoin:miter;stroke-width:0.8;\"/>\r\n   </g>\r\n   <g id=\"patch_5\">\r\n    <path d=\"M 26.925 97.125306 \r\nL 361.725 97.125306 \r\n\" style=\"fill:none;stroke:#ffffff;stroke-linecap:square;stroke-linejoin:miter;stroke-width:0.8;\"/>\r\n   </g>\r\n   <g id=\"patch_6\">\r\n    <path d=\"M 26.925 9.786175 \r\nL 361.725 9.786175 \r\n\" style=\"fill:none;stroke:#ffffff;stroke-linecap:square;stroke-linejoin:miter;stroke-width:0.8;\"/>\r\n   </g>\r\n  </g>\r\n </g>\r\n <defs>\r\n  <clipPath id=\"p000f85bf20\">\r\n   <rect height=\"87.33913\" width=\"334.8\" x=\"26.925\" y=\"9.786175\"/>\r\n  </clipPath>\r\n </defs>\r\n</svg>\r\n",
            "text/plain": [
              "<Figure size 432x288 with 1 Axes>"
            ]
          },
          "metadata": {
            "tags": []
          }
        },
        {
          "output_type": "stream",
          "text": [
            "GroundTruth:    cat  ship  ship plane\n",
            "Predicted:    cat  ship  ship  ship\n"
          ],
          "name": "stdout"
        }
      ]
    },
    {
      "cell_type": "code",
      "metadata": {
        "id": "NEHnGPjPOXhX",
        "colab_type": "code",
        "colab": {}
      },
      "source": [
        "def fulltesting(net):\n",
        "    correct = 0\n",
        "    total = 0\n",
        "    with torch.no_grad():\n",
        "        for data in testloader:\n",
        "            images, labels = data\n",
        "            outputs = net(images)\n",
        "            _, predicted = torch.max(outputs.data, 1)\n",
        "            total += labels.size(0)\n",
        "            correct += (predicted == labels).sum().item()\n",
        "\n",
        "    print('Accuracy of the network on the 10000 test images: %d %%' % (\n",
        "        100 * correct / total))"
      ],
      "execution_count": 0,
      "outputs": []
    },
    {
      "cell_type": "code",
      "metadata": {
        "id": "FHX7IDZKOXhZ",
        "colab_type": "code",
        "outputId": "a1cec95c-ba23-4e47-a942-3d223bf2987c",
        "colab": {}
      },
      "source": [
        "fulltesting(net)"
      ],
      "execution_count": 0,
      "outputs": [
        {
          "output_type": "stream",
          "text": [
            "Accuracy of the network on the 10000 test images: 55 %\n"
          ],
          "name": "stdout"
        }
      ]
    },
    {
      "cell_type": "code",
      "metadata": {
        "id": "3LKVtnqpOXhb",
        "colab_type": "code",
        "outputId": "f25f7e99-cade-4a2c-961c-f116f15a7747",
        "colab": {}
      },
      "source": [
        "# newnet = Net()\n",
        "# trainNet(newnet,10,5,0.001)"
      ],
      "execution_count": 0,
      "outputs": [
        {
          "output_type": "stream",
          "text": [
            "==============================\n",
            "batch_size= 10\n",
            "epochs= 5\n",
            "learning_rate= 0.001\n",
            "==============================\n",
            "[1,  2000] loss: 2.184\n",
            "[1,  4000] loss: 1.738\n",
            "[2,  2000] loss: 1.515\n",
            "[2,  4000] loss: 1.439\n",
            "[3,  2000] loss: 1.324\n",
            "[3,  4000] loss: 1.293\n",
            "[4,  2000] loss: 1.219\n",
            "[4,  4000] loss: 1.188\n",
            "[5,  2000] loss: 1.127\n",
            "[5,  4000] loss: 1.117\n",
            "Finished Training, time = 1234.41 seconds\n"
          ],
          "name": "stdout"
        }
      ]
    },
    {
      "cell_type": "code",
      "metadata": {
        "id": "-UUzLa9eOXhe",
        "colab_type": "code",
        "outputId": "5070d448-7ecc-41b5-9cf8-7311dd0d764c",
        "colab": {}
      },
      "source": [
        "fulltesting(newnet)"
      ],
      "execution_count": 0,
      "outputs": [
        {
          "output_type": "stream",
          "text": [
            "Accuracy of the network on the 10000 test images: 59 %\n"
          ],
          "name": "stdout"
        }
      ]
    },
    {
      "cell_type": "code",
      "metadata": {
        "id": "0c-N4tglOXhh",
        "colab_type": "code",
        "colab": {}
      },
      "source": [
        "class inceptionv1(nn.Module):\n",
        "    def __init__(self):\n",
        "        super(inceptionv1, self).__init__()\n",
        "        self.b1_1x1conv = nn.Conv2d(3, 32, kernel_size=1, padding=0)\n",
        "\n",
        "        self.b2_1x1conv = nn.Conv2d(3, 8, kernel_size=1, padding=0)\n",
        "        self.b2_3x3conv = nn.Conv2d(8, 16, kernel_size=3, padding=1)\n",
        "\n",
        "        self.b3_1x1conv = nn.Conv2d(3, 8, kernel_size=1, padding=0)\n",
        "        self.b3_5x5conv = nn.Conv2d(8, 16, kernel_size=5, padding=2)\n",
        "\n",
        "        self.b4_pool = nn.MaxPool2d(kernel_size=3, stride=1, padding=1)\n",
        "        self.b4_1x1conv = nn.Conv2d(3, 16, kernel_size=1, padding=0)\n",
        "\n",
        "        self.fc1 = nn.Linear(80 * 32 * 32, 120)\n",
        "        self.fc2 = nn.Linear(120, 84)\n",
        "        self.fc3 = nn.Linear(84, 10)\n",
        "        \n",
        "\n",
        "    def forward(self, x):\n",
        "        b1 = F.relu(self.b1_1x1conv(x))\n",
        "\n",
        "        b2 = F.relu(self.b2_1x1conv(x))\n",
        "        b2 = F.relu(self.b2_3x3conv(b2))\n",
        "\n",
        "        b3 = F.relu(self.b3_1x1conv(x))\n",
        "        b3 = F.relu(self.b3_5x5conv(b3))\n",
        "\n",
        "        b4 = self.b4_pool(x)\n",
        "        b4 = F.relu(self.b4_1x1conv(b4))\n",
        "\n",
        "        conc = [b1, b2, b3, b4]\n",
        "        \n",
        "        y = torch.cat(conc, 1)\n",
        "        y = y.view(-1,  80 * 32 * 32)\n",
        "        y = F.relu(self.fc1(y))\n",
        "        y = F.relu(self.fc2(y))\n",
        "        y = self.fc3(y)\n",
        "        return y  \n"
      ],
      "execution_count": 0,
      "outputs": []
    },
    {
      "cell_type": "code",
      "metadata": {
        "id": "Ha2eNtM3OXhk",
        "colab_type": "code",
        "outputId": "57cffff6-78f0-4815-f100-6c22bc9aba41",
        "colab": {
          "base_uri": "https://localhost:8080/",
          "height": 433
        }
      },
      "source": [
        "# incet = inceptionv1()\n",
        "# trainNet(incet,4,3,0.001)\n"
      ],
      "execution_count": 0,
      "outputs": [
        {
          "output_type": "stream",
          "text": [
            "==============================\n",
            "batch_size= 4\n",
            "epochs= 3\n",
            "learning_rate= 0.001\n",
            "==============================\n",
            "[1,  2000] loss: 1.971\n",
            "[1,  4000] loss: 1.708\n",
            "[1,  6000] loss: 1.613\n",
            "[1,  8000] loss: 1.552\n",
            "[1, 10000] loss: 1.527\n",
            "[1, 12000] loss: 1.479\n",
            "[2,  2000] loss: 1.381\n",
            "[2,  4000] loss: 1.373\n",
            "[2,  6000] loss: 1.326\n",
            "[2,  8000] loss: 1.304\n",
            "[2, 10000] loss: 1.311\n",
            "[2, 12000] loss: 1.286\n",
            "[3,  2000] loss: 1.188\n",
            "[3,  4000] loss: 1.183\n",
            "[3,  6000] loss: 1.159\n",
            "[3,  8000] loss: 1.157\n",
            "[3, 10000] loss: 1.136\n",
            "[3, 12000] loss: 1.143\n",
            "Finished Training, time = 6031.41 seconds\n"
          ],
          "name": "stdout"
        }
      ]
    },
    {
      "cell_type": "code",
      "metadata": {
        "id": "l6JfG4HlOXhn",
        "colab_type": "code",
        "outputId": "cdc8e734-4548-40b3-80d7-e72e688ce2d3",
        "colab": {
          "base_uri": "https://localhost:8080/",
          "height": 35
        }
      },
      "source": [
        "fulltesting(incet)"
      ],
      "execution_count": 0,
      "outputs": [
        {
          "output_type": "stream",
          "text": [
            "Accuracy of the network on the 10000 test images: 60 %\n"
          ],
          "name": "stdout"
        }
      ]
    },
    {
      "cell_type": "code",
      "metadata": {
        "id": "iJ0XGSN_2G3P",
        "colab_type": "code",
        "colab": {}
      },
      "source": [
        "class inceptionv2(nn.Module):\n",
        "    def __init__(self):\n",
        "        super(inceptionv2, self).__init__()\n",
        "        self.b1_1x1conv = nn.Conv2d(3, 32, kernel_size=1, padding=0)\n",
        "\n",
        "        self.b2_1x1conv = nn.Conv2d(3, 8, kernel_size=1, padding=0)\n",
        "        self.b2_3x3conv = nn.Conv2d(8, 16, kernel_size=3, padding=1)\n",
        "\n",
        "        self.b3_1x1conv = nn.Conv2d(3, 8, kernel_size=1, padding=0)\n",
        "        self.b3_3x3conv = nn.Conv2d(8, 12, kernel_size=3, padding=1)\n",
        "        self.b3_3x3_2conv = nn.Conv2d(12, 16, kernel_size=3, padding=1)\n",
        "\n",
        "\n",
        "        self.b4_pool = nn.MaxPool2d(kernel_size=3, stride=1, padding=1)\n",
        "        self.b4_1x1conv = nn.Conv2d(3, 16, kernel_size=1, padding=0)\n",
        "\n",
        "        self.fc1 = nn.Linear(80 * 32 * 32, 120)\n",
        "        self.fc2 = nn.Linear(120, 84)\n",
        "        self.fc3 = nn.Linear(84, 10)\n",
        "        \n",
        "\n",
        "    def forward(self, x):\n",
        "        b1 = F.relu(self.b1_1x1conv(x))\n",
        "\n",
        "        b2 = F.relu(self.b2_1x1conv(x))\n",
        "        b2 = F.relu(self.b2_3x3conv(b2))\n",
        "\n",
        "        b3 = F.relu(self.b3_1x1conv(x))\n",
        "        b3 = F.relu(self.b3_3x3conv(b3))\n",
        "        b3 = F.relu(self.b3_3x3_2conv(b3))\n",
        "\n",
        "\n",
        "        b4 = self.b4_pool(x)\n",
        "        b4 = F.relu(self.b4_1x1conv(b4))\n",
        "\n",
        "        conc = [b1, b2, b3, b4]\n",
        "        \n",
        "        y = torch.cat(conc, 1)\n",
        "        y = y.view(-1,  80 * 32 * 32)\n",
        "        y = F.relu(self.fc1(y))\n",
        "        y = F.relu(self.fc2(y))\n",
        "        y = self.fc3(y)\n",
        "        return y  \n"
      ],
      "execution_count": 0,
      "outputs": []
    },
    {
      "cell_type": "code",
      "metadata": {
        "id": "doklOTJC3Wa8",
        "colab_type": "code",
        "outputId": "74dfdd99-229b-47b4-ae62-4f20ff941941",
        "colab": {
          "base_uri": "https://localhost:8080/",
          "height": 849
        }
      },
      "source": [
        "incet2 = inceptionv2()\n",
        "trainNet(incet2,4,3,0.001)"
      ],
      "execution_count": 0,
      "outputs": [
        {
          "output_type": "stream",
          "text": [
            "==============================\n",
            "batch_size= 4\n",
            "epochs= 3\n",
            "learning_rate= 0.001\n",
            "==============================\n",
            "[1,  2000] loss: 1.970\n",
            "[1,  4000] loss: 1.692\n",
            "[1,  6000] loss: 1.601\n",
            "[1,  8000] loss: 1.532\n",
            "[1, 10000] loss: 1.504\n",
            "[1, 12000] loss: 1.454\n",
            "[2,  2000] loss: 1.377\n",
            "[2,  4000] loss: 1.324\n",
            "[2,  6000] loss: 1.295\n",
            "[2,  8000] loss: 1.286\n",
            "[2, 10000] loss: 1.256\n",
            "[2, 12000] loss: 1.240\n",
            "[3,  2000] loss: 1.137\n",
            "[3,  4000] loss: 1.142\n",
            "[3,  6000] loss: 1.119\n",
            "==============================\n",
            "batch_size= 4\n",
            "epochs= 3\n",
            "learning_rate= 0.001\n",
            "==============================\n",
            "[1,  2000] loss: 1.970\n",
            "[1,  4000] loss: 1.692\n",
            "[1,  6000] loss: 1.601\n",
            "[1,  8000] loss: 1.532\n",
            "[1, 10000] loss: 1.504\n",
            "[1, 12000] loss: 1.454\n",
            "[2,  2000] loss: 1.377\n",
            "[2,  4000] loss: 1.324\n",
            "[2,  6000] loss: 1.295\n",
            "[2,  8000] loss: 1.286\n",
            "[2, 10000] loss: 1.256\n",
            "[2, 12000] loss: 1.240\n",
            "[3,  2000] loss: 1.137\n",
            "[3,  4000] loss: 1.142\n",
            "[3,  6000] loss: 1.119\n",
            "[3,  8000] loss: 1.122\n",
            "[3,  8000] loss: 1.122\n",
            "[3, 10000] loss: 1.092\n",
            "[3, 10000] loss: 1.092\n",
            "[3, 12000] loss: 1.098\n",
            "[3, 12000] loss: 1.098\n",
            "Finished Training, time = 5448.72 seconds\n",
            "Finished Training, time = 5448.72 seconds\n"
          ],
          "name": "stdout"
        }
      ]
    },
    {
      "cell_type": "code",
      "metadata": {
        "id": "i-RhaMWu1vZ-",
        "colab_type": "code",
        "colab": {
          "base_uri": "https://localhost:8080/",
          "height": 35
        },
        "outputId": "a470f733-821a-4f79-8f1a-7861830ec7f2"
      },
      "source": [
        "fulltesting(incet2)"
      ],
      "execution_count": 14,
      "outputs": [
        {
          "output_type": "stream",
          "text": [
            "Accuracy of the network on the 10000 test images: 59 %\n"
          ],
          "name": "stdout"
        }
      ]
    }
  ]
}